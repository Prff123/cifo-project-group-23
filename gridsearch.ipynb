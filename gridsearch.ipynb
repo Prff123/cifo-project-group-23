{
 "cells": [
  {
   "cell_type": "code",
   "execution_count": 10,
   "metadata": {},
   "outputs": [],
   "source": [
    "from pacman import Individual, Population\n",
    "from crossover import single_point_co, multi_point_co, uniform_co\n",
    "from mutation import move_mutation, swap_mutation, inversion_mutation\n",
    "from selection import fps, tournament_sel, boltzmann_selection, rank_based_selection\n",
    "\n",
    "import pandas as pd\n",
    "import numpy as np"
   ]
  },
  {
   "attachments": {},
   "cell_type": "markdown",
   "metadata": {},
   "source": [
    "# Dataframes Initialization (prepared for models with nr_gens=[100,200,300,500])"
   ]
  },
  {
   "cell_type": "code",
   "execution_count": 6,
   "metadata": {},
   "outputs": [],
   "source": [
    "nr_gens = [100, 200, 300, 500]\n",
    "\n",
    "dfs = {}\n",
    "\n",
    "for nr in nr_gens:\n",
    "    df_name = f\"df_{nr}_gens\"\n",
    "    dfs[df_name] = pd.DataFrame({'Gens': range(1, nr + 1)}).set_index('Gens')\n",
    "\n",
    "# Access the dataframes using their names\n",
    "df_100_gens = dfs[\"df_100_gens\"]\n",
    "df_200_gens = dfs[\"df_200_gens\"]\n",
    "df_300_gens = dfs[\"df_300_gens\"]\n",
    "df_500_gens = dfs[\"df_500_gens\"]\n",
    "\n"
   ]
  },
  {
   "attachments": {},
   "cell_type": "markdown",
   "metadata": {},
   "source": [
    "# Define the parameters for the grid search\n"
   ]
  },
  {
   "cell_type": "code",
   "execution_count": 7,
   "metadata": {},
   "outputs": [],
   "source": [
    "import numpy as np\n",
    "import pandas as pd\n",
    "\n",
    "# Define the parameters for the grid search\n",
    "nr_gens = [100, 300]\n",
    "population_size = [200, 500]\n",
    "population_moves = [500]\n",
    "crossover_list = [single_point_co, multi_point_co, uniform_co]\n",
    "crossover_prob = 0.9\n",
    "mutation_list = [inversion_mutation]\n",
    "mutation_prob = 0.1\n",
    "selection_list = [fps, tournament_sel, boltzmann_selection, rank_based_selection]\n",
    "elitism_selection = [True, False]\n",
    "global_optimum = 23900\n",
    "\n",
    "map = [['p', 'g', 'f', '*', 'g', '*', 'g', '*', 'g', '*', '*', 'g'], ['*', '*', '*', '*', '*', '*', '*', 'f', '*', '*', '*', '*'], ['*', 'g', '*', '*', 'g', '*', '*', 'g', '*', '*', 'g', 'f'], ['f', '*', '*', '*', '*', '*', '*', '*', '*', '*', '*', 'f'], ['*', '*', 'g', '*', 'g', 'f', '*', '*', 'g', '*', '*', 'g'], ['g', '*', '*', '*', '*', 'f', '*', '*', '*', '*', '*', '*'], ['f', '*', '*', '*', 'g', '*', 'g', '*', '*', 'g', '*', 'g'], ['g', '*', 'g', '*', 'f', '*', '*', '*', '*', '*', 'f', '*'], ['*', '*', 'f', '*', '*', 'g', 'f', 'g', '*', '*', '*', 'g'], ['g', '*', '*', 'g', '*', '*', '*', '*', '*', 'g', '*', '*'], ['*', '*', '*', '*', '*', 'f', 'f', '*', '*', '*', '*', '*'], ['*', 'g', '*', '*', 'g', '*', 'g', '*', '*', '*', 'g', '*']]\n",
    "\n",
    "# Create a dictionary to store the results\n",
    "results = {}\n"
   ]
  },
  {
   "attachments": {},
   "cell_type": "markdown",
   "metadata": {},
   "source": [
    "# Grid Searches (run only one for each time you initialize the Dataframes)"
   ]
  },
  {
   "attachments": {},
   "cell_type": "markdown",
   "metadata": {},
   "source": [
    "### Grid Search for Average Best Fitness, Standard Deviation and Cumulative Fitness Evaluations (prepared for running models with pop_size=[200,300,500] and equalize the computational cost of them)"
   ]
  },
  {
   "cell_type": "code",
   "execution_count": null,
   "metadata": {},
   "outputs": [],
   "source": [
    "# Perform the grid search\n",
    "for nr in nr_gens:\n",
    "    df_name = f\"df_{nr}_gens\"\n",
    "    df = dfs[df_name]  # Access the corresponding dataframe\n",
    "    \n",
    "    # Initialize a dictionary for the current dataframe's results\n",
    "    df_results = {}\n",
    "    \n",
    "    for pop_size in population_size:\n",
    "        for crossover_func in crossover_list:\n",
    "            for mutation_func in mutation_list:\n",
    "                for selection_func in selection_list:\n",
    "                  for elitism_bol in elitism_selection:\n",
    "                    for moves in population_moves:\n",
    "                      # Initialize lists to store the results for each run and each generation\n",
    "                      best_fitness_lists = [[] for _ in range(nr)]\n",
    "                      fitness_evaluations_lists = [[] for _ in range(nr)]\n",
    "                      \n",
    "                      if pop_size == 200:\n",
    "                          nr_runs = 75\n",
    "                      elif pop_size == 300:\n",
    "                          nr_runs = 50  \n",
    "                      elif pop_size == 500:\n",
    "                          nr_runs = 30\n",
    "                      \n",
    "                      for _ in range(nr_runs):  # Run specified number of times\n",
    "                          # Create the initial population\n",
    "                          pop = Population(size=pop_size, generated_map=map, moves=moves)\n",
    "                          \n",
    "                          # Evolve the population\n",
    "                          pop.evolve(gens=nr, select=selection_func, mutate=mutation_func, crossover=crossover_func, \n",
    "                                     mut_prob=mutation_prob, xo_prob=crossover_prob, elitism=elitism_bol)\n",
    "                          \n",
    "                          fitness_evaluations = 0\n",
    "                          # Get the best fitness and fitness evaluations for each generation\n",
    "                          for i, individual in enumerate(pop.best_individuals_gen):\n",
    "                              best_fitness = individual.fitness\n",
    "                              fitness_evaluations += len(pop)\n",
    "                              \n",
    "                              # Append the results to the lists\n",
    "                              best_fitness_lists[i].append(best_fitness)\n",
    "                              fitness_evaluations_lists[i].append(fitness_evaluations)\n",
    "                      \n",
    "                      # Calculate the average of the best fitness and cumulative fitness evaluations for each generation\n",
    "                      avg_best_fitness = [np.mean(best_fitness_lists[i]) for i in range(nr)]\n",
    "                      cumulative_evaluations = [np.sum(fitness_evaluations_lists[i]) for i in range(nr)]\n",
    "                      std_best_fitness = [np.std(best_fitness_lists[i]) for i in range(nr)]\n",
    "                      \n",
    "                      # Store the results in the dictionary\n",
    "                      param_key = f\"pop_size={pop_size}, nr_gens={nr}, \"\n",
    "                      df_results[param_key] = {\"avg_best_fitness\": avg_best_fitness, \"std_best_fitness\": std_best_fitness, \"cumulative_evaluations\": cumulative_evaluations}\n",
    "                      print(param_key)\n",
    "    \n",
    "    # Store the results for the current dataframe in the overall results dictionary\n",
    "    results[df_name] = df_results\n",
    "    \n",
    "    # Add the columns to the dataframe\n",
    "    for param_key, result in df_results.items():\n",
    "        df[param_key + \"avg_best_fitness\"] = result[\"avg_best_fitness\"]\n",
    "        df[param_key + \"_std_best_fitness\"] = result[\"std_best_fitness\"]\n",
    "        df[param_key + \"cumulative_evaluations\"] = result[\"cumulative_evaluations\"]"
   ]
  },
  {
   "attachments": {},
   "cell_type": "markdown",
   "metadata": {},
   "source": [
    "### Grid Search for Average Best Fitness, Standard Deviation and Success Rates (In this case, all the models are run 100x)\n"
   ]
  },
  {
   "cell_type": "code",
   "execution_count": null,
   "metadata": {},
   "outputs": [],
   "source": [
    "# Perform the grid search\n",
    "for nr in nr_gens:\n",
    "    df_name = f\"df_{nr}_gens\"\n",
    "    df = dfs[df_name]  # Access the corresponding dataframe\n",
    "    \n",
    "    # Initialize a dictionary for the current dataframe's results\n",
    "    df_results = {}\n",
    "    \n",
    "    for pop_size in population_size:\n",
    "        for crossover_func in crossover_list:\n",
    "            for mutation_func in mutation_list:\n",
    "                for selection_func in selection_list:\n",
    "                    for elitism_bol in elitism_selection:\n",
    "                        for moves in population_moves:\n",
    "                            # Initialize lists to store the results for each run and each generation\n",
    "                            best_fitness_lists = [[] for _ in range(nr)]\n",
    "                            fitness_evaluations_lists = [[] for _ in range(nr)]\n",
    "                            success_rates = [0 for _ in range(nr)]\n",
    "                            \n",
    "                            nr_runs = 100\n",
    "                            \n",
    "                            for _ in range(nr_runs):  # Run specified number of times\n",
    "                                print(pop_size, _)\n",
    "                                # Create the initial population\n",
    "                                pop = Population(size=pop_size, generated_map=map, moves=moves)\n",
    "                                \n",
    "                                # Evolve the population\n",
    "                                pop.evolve(gens=nr, select=selection_func, mutate=mutation_func, crossover=crossover_func, \n",
    "                                           mut_prob=mutation_prob, xo_prob=crossover_prob, elitism=elitism_bol)\n",
    "                                \n",
    "                                # Initialize success counts for each generation\n",
    "                                success_count = [0] * nr\n",
    "                                \n",
    "                                # Get the best fitness and fitness evaluations for each generation\n",
    "                                for i, individual in enumerate(pop.best_individuals_gen):\n",
    "                                    best_fitness = individual.fitness\n",
    "                                    fitness_evaluations = len(pop)\n",
    "                                    \n",
    "                                    # Append the results to the lists\n",
    "                                    best_fitness_lists[i].append(best_fitness)\n",
    "                                    #fitness_evaluations_lists[i].append(fitness_evaluations)\n",
    "                                    \n",
    "                                    # Check if the individual reached the threshold fitness at each generation\n",
    "                                    if best_fitness == global_optimum:\n",
    "                                        success_rates[i] += 1\n",
    "                                \n",
    "                            \n",
    "                            # Calculate the average of the best fitness and cumulative fitness evaluations for each generation\n",
    "                            avg_best_fitness = [np.mean(best_fitness_lists[i]) for i in range(nr)]\n",
    "                            #cumulative_evaluations = [np.sum(fitness_evaluations_lists[i]) for i in range(nr)]\n",
    "                            std_best_fitness = [np.std(best_fitness_lists[i]) for i in range(nr)]\n",
    "                            \n",
    "                            # Store the results in the dictionary\n",
    "                            param_key = f\"pop_size={pop_size}, nr_gens={nr}, \"\n",
    "                            df_results[param_key] = {\n",
    "                                \"avg_best_fitness\": avg_best_fitness,\n",
    "                                \"std_best_fitness\": std_best_fitness,\n",
    "                                #\"cumulative_evaluations\": cumulative_evaluations,\n",
    "                                \"success_rate\": success_rates\n",
    "                            }\n",
    "    \n",
    "    # Store the results for the current dataframe in the overall results dictionary\n",
    "    results[df_name] = df_results\n",
    "    \n",
    "    # Add the columns to the dataframe\n",
    "    for param_key, result in df_results.items():\n",
    "        df[param_key + \"avg_best_fitness\"] = result[\"avg_best_fitness\"]\n",
    "        df[param_key + \"_std_best_fitness\"] = result[\"std_best_fitness\"]\n",
    "        #df[param_key + \"cumulative_evaluations\"] = result[\"cumulative_evaluations\"]\n",
    "        df[param_key + \"success_rate\"] = result[\"success_rate\"]"
   ]
  },
  {
   "attachments": {},
   "cell_type": "markdown",
   "metadata": {},
   "source": [
    "# Export Excel with Results"
   ]
  },
  {
   "cell_type": "code",
   "execution_count": 7,
   "metadata": {},
   "outputs": [],
   "source": [
    "with pd.ExcelWriter('results.xlsx') as writer:\n",
    "    df_100_gens.to_excel(writer, sheet_name='df_100_gens')\n",
    "    df_200_gens.to_excel(writer, sheet_name='df_200_gens')\n",
    "    df_300_gens.to_excel(writer, sheet_name='df_300_gens')\n",
    "    df_500_gens.to_excel(writer, sheet_name='df_500_gens')"
   ]
  }
 ],
 "metadata": {
  "kernelspec": {
   "display_name": "Python 3 (ipykernel)",
   "language": "python",
   "name": "python3"
  },
  "language_info": {
   "codemirror_mode": {
    "name": "ipython",
    "version": 3
   },
   "file_extension": ".py",
   "mimetype": "text/x-python",
   "name": "python",
   "nbconvert_exporter": "python",
   "pygments_lexer": "ipython3",
   "version": "3.9.15"
  }
 },
 "nbformat": 4,
 "nbformat_minor": 2
}
